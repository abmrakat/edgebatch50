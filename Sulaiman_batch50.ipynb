{
  "nbformat": 4,
  "nbformat_minor": 0,
  "metadata": {
    "colab": {
      "provenance": [],
      "authorship_tag": "ABX9TyN6G3TR/b+4EJwWP2SfQPsj",
      "include_colab_link": true
    },
    "kernelspec": {
      "name": "python3",
      "display_name": "Python 3"
    },
    "language_info": {
      "name": "python"
    }
  },
  "cells": [
    {
      "cell_type": "markdown",
      "metadata": {
        "id": "view-in-github",
        "colab_type": "text"
      },
      "source": [
        "<a href=\"https://colab.research.google.com/github/abmrakat/edgebatch50/blob/main/Sulaiman_batch50.ipynb\" target=\"_parent\"><img src=\"https://colab.research.google.com/assets/colab-badge.svg\" alt=\"Open In Colab\"/></a>"
      ]
    },
    {
      "cell_type": "markdown",
      "source": [
        "ASCII character and its ASCII value in a single line python code with if for loop and list"
      ],
      "metadata": {
        "id": "BMHxx5EzKoN9"
      }
    },
    {
      "cell_type": "code",
      "execution_count": 2,
      "metadata": {
        "colab": {
          "base_uri": "https://localhost:8080/"
        },
        "id": "CjyTgYegJP-o",
        "outputId": "b4d089fd-978e-4eea-b00d-ad1a4798f07a"
      },
      "outputs": [
        {
          "output_type": "execute_result",
          "data": {
            "text/plain": [
              "['98=b',\n",
              " '100=d',\n",
              " '102=f',\n",
              " '104=h',\n",
              " '106=j',\n",
              " '108=l',\n",
              " '110=n',\n",
              " '112=p',\n",
              " '114=r',\n",
              " '116=t',\n",
              " '118=v',\n",
              " '120=x',\n",
              " '122=z']"
            ]
          },
          "metadata": {},
          "execution_count": 2
        }
      ],
      "source": [
        "[str(c)+\"=\"+chr(c) for c in range(ord('a'), ord('z')+1) if c%2==0]"
      ]
    },
    {
      "cell_type": "markdown",
      "source": [
        "missing item after splitting and concatenating the lists.\n"
      ],
      "metadata": {
        "id": "YOWKhJVTLhSR"
      }
    },
    {
      "cell_type": "code",
      "source": [
        "li = [i for i in range(10)]\n",
        "print(f\"Original list: {li}\")\n",
        "li1 = li[:2] + li[3:]\n",
        "print(f\"Modified list: {li1}\")"
      ],
      "metadata": {
        "colab": {
          "base_uri": "https://localhost:8080/"
        },
        "id": "nPi4uusgKzVR",
        "outputId": "5ff011ba-aefa-4f5a-929e-568d2a0f4ccd"
      },
      "execution_count": 4,
      "outputs": [
        {
          "output_type": "stream",
          "name": "stdout",
          "text": [
            "Original list: [0, 1, 2, 3, 4, 5, 6, 7, 8, 9]\n",
            "Modified list: [0, 1, 3, 4, 5, 6, 7, 8, 9]\n"
          ]
        }
      ]
    },
    {
      "cell_type": "markdown",
      "source": [
        "list"
      ],
      "metadata": {
        "id": "5WbBPJVSMK1p"
      }
    },
    {
      "cell_type": "code",
      "source": [
        "def addComplex( z1, z2):\n",
        "    return z1 + z2\n",
        "\n",
        "li1 = [complex(_,2+_) for _ in range(6)]\n",
        "li2 = [complex(_,2+_) for _ in range(2,14,2)]\n",
        "\n",
        "li3 = []\n",
        "for i,j in zip(li1,li2):\n",
        "    li3.append(addComplex(i,j))\n",
        "\n",
        "print(f\"li1 = {li1}\\nli2 = {li2}\\nli3= {li3}\")\n",
        "enc_mess = bytes(str(li3).encode('utf-16'))\n",
        "print(\"Original list after addition\", li3)\n",
        "print(f\"Encoded Message: {enc_mess}\")\n",
        "\n",
        "#print(bytes(str(li3), 'utf-16'))"
      ],
      "metadata": {
        "colab": {
          "base_uri": "https://localhost:8080/"
        },
        "id": "mF82x9T-MLPI",
        "outputId": "905ae2eb-ad44-449d-8489-42bdb4a1c22f"
      },
      "execution_count": 10,
      "outputs": [
        {
          "output_type": "stream",
          "name": "stdout",
          "text": [
            "li1 = [2j, (1+3j), (2+4j), (3+5j), (4+6j), (5+7j)]\n",
            "li2 = [(2+4j), (4+6j), (6+8j), (8+10j), (10+12j), (12+14j)]\n",
            "li3= [(2+6j), (5+9j), (8+12j), (11+15j), (14+18j), (17+21j)]\n",
            "Original list after addition [(2+6j), (5+9j), (8+12j), (11+15j), (14+18j), (17+21j)]\n",
            "Encoded Message: b'\\xff\\xfe[\\x00(\\x002\\x00+\\x006\\x00j\\x00)\\x00,\\x00 \\x00(\\x005\\x00+\\x009\\x00j\\x00)\\x00,\\x00 \\x00(\\x008\\x00+\\x001\\x002\\x00j\\x00)\\x00,\\x00 \\x00(\\x001\\x001\\x00+\\x001\\x005\\x00j\\x00)\\x00,\\x00 \\x00(\\x001\\x004\\x00+\\x001\\x008\\x00j\\x00)\\x00,\\x00 \\x00(\\x001\\x007\\x00+\\x002\\x001\\x00j\\x00)\\x00]\\x00'\n"
          ]
        }
      ]
    }
  ]
}