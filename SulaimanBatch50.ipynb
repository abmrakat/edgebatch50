{
  "nbformat": 4,
  "nbformat_minor": 0,
  "metadata": {
    "colab": {
      "provenance": [],
      "authorship_tag": "ABX9TyOLBotwXUtawOgZ2uCyvVPl",
      "include_colab_link": true
    },
    "kernelspec": {
      "name": "python3",
      "display_name": "Python 3"
    },
    "language_info": {
      "name": "python"
    }
  },
  "cells": [
    {
      "cell_type": "markdown",
      "metadata": {
        "id": "view-in-github",
        "colab_type": "text"
      },
      "source": [
        "<a href=\"https://colab.research.google.com/github/abmrakat/edgebatch50/blob/main/SulaimanBatch50.ipynb\" target=\"_parent\"><img src=\"https://colab.research.google.com/assets/colab-badge.svg\" alt=\"Open In Colab\"/></a>"
      ]
    },
    {
      "cell_type": "markdown",
      "source": [
        "Read the Entire Text File Using the read() Function"
      ],
      "metadata": {
        "id": "uqXh8itZPqJ-"
      }
    },
    {
      "cell_type": "markdown",
      "source": [
        "Create and Write to a File"
      ],
      "metadata": {
        "id": "9xfCPQVNPolA"
      }
    },
    {
      "cell_type": "code",
      "source": [
        "# Writing to a file\n",
        "with open('practice.txt', 'w') as file:\n",
        "    file.write(\"Line 1: Hello, World!\\n\")\n",
        "    file.write(\"Line 2: This is a practice file.\\n\")\n",
        "    file.write(\"Line 3: Python file handling is fun!\\n\")\n",
        "print(\"File created and written successfully.\")\n"
      ],
      "metadata": {
        "colab": {
          "base_uri": "https://localhost:8080/"
        },
        "id": "QxtUT3ygVRh8",
        "outputId": "07253600-e76d-44a6-c0ef-8d58fe96b2fa"
      },
      "execution_count": 5,
      "outputs": [
        {
          "output_type": "stream",
          "name": "stdout",
          "text": [
            "File created and written successfully.\n"
          ]
        }
      ]
    },
    {
      "cell_type": "markdown",
      "source": [
        "Read the File"
      ],
      "metadata": {
        "id": "kov9tGi3Vlxk"
      }
    },
    {
      "cell_type": "code",
      "source": [
        "# Reading the file content\n",
        "with open('practice.txt', 'r') as file:\n",
        "    content = file.read()\n",
        "print(\"File content:\")\n",
        "print(content)\n"
      ],
      "metadata": {
        "colab": {
          "base_uri": "https://localhost:8080/"
        },
        "id": "FK3NKvcYVpZE",
        "outputId": "2a516219-1415-40f0-b499-b2b38eac6777"
      },
      "execution_count": 6,
      "outputs": [
        {
          "output_type": "stream",
          "name": "stdout",
          "text": [
            "File content:\n",
            "Line 1: Hello, World!\n",
            "Line 2: This is a practice file.\n",
            "Line 3: Python file handling is fun!\n",
            "\n"
          ]
        }
      ]
    },
    {
      "cell_type": "markdown",
      "source": [
        "Append New Content to the File"
      ],
      "metadata": {
        "id": "DBvKAVdmWAck"
      }
    },
    {
      "cell_type": "code",
      "source": [
        "# Appending new content to the file\n",
        "with open('practice.txt', 'a') as file:\n",
        "    file.write(\"Line 4: Appending new content.\\n\")\n",
        "print(\"New content appended to the file.\")\n"
      ],
      "metadata": {
        "colab": {
          "base_uri": "https://localhost:8080/"
        },
        "id": "Vt4YUKTvWCkL",
        "outputId": "65fb9c4b-55d1-4c54-c678-fee437b9e181"
      },
      "execution_count": 7,
      "outputs": [
        {
          "output_type": "stream",
          "name": "stdout",
          "text": [
            "New content appended to the file.\n"
          ]
        }
      ]
    },
    {
      "cell_type": "markdown",
      "source": [
        "Update a Specific Line"
      ],
      "metadata": {
        "id": "IyZbHfnFWGYj"
      }
    },
    {
      "cell_type": "code",
      "source": [
        "# Updating a specific line\n",
        "with open('practice.txt', 'r') as file:\n",
        "    lines = file.readlines()\n",
        "\n",
        "# Update line 2\n",
        "lines[1] = \"Line 2: This line has been updated.\\n\"\n",
        "\n",
        "with open('practice.txt', 'w') as file:\n",
        "    file.writelines(lines)\n",
        "print(\"Line 2 updated successfully.\")\n"
      ],
      "metadata": {
        "colab": {
          "base_uri": "https://localhost:8080/"
        },
        "id": "wVfgUWJcWJIb",
        "outputId": "afc32a84-1237-494d-cabf-5f5d299c49ea"
      },
      "execution_count": 8,
      "outputs": [
        {
          "output_type": "stream",
          "name": "stdout",
          "text": [
            "Line 2 updated successfully.\n"
          ]
        }
      ]
    },
    {
      "cell_type": "markdown",
      "source": [
        "Search for a Word in the File"
      ],
      "metadata": {
        "id": "5HTeBCEGWM7b"
      }
    },
    {
      "cell_type": "code",
      "source": [
        "# Searching for a word in the file\n",
        "word_to_search = \"practice\"\n",
        "found = False\n",
        "\n",
        "with open('practice.txt', 'r') as file:\n",
        "    for line_number, line in enumerate(file, start=1):\n",
        "        if word_to_search in line:\n",
        "            print(f\"'{word_to_search}' found in line {line_number}: {line.strip()}\")\n",
        "            found = True\n",
        "\n",
        "if not found:\n",
        "    print(f\"'{word_to_search}' not found in the file.\")\n"
      ],
      "metadata": {
        "colab": {
          "base_uri": "https://localhost:8080/"
        },
        "id": "0O_Z7NywWQ5c",
        "outputId": "b6861d05-3916-4a75-9341-935ba0669f84"
      },
      "execution_count": 9,
      "outputs": [
        {
          "output_type": "stream",
          "name": "stdout",
          "text": [
            "'practice' not found in the file.\n"
          ]
        }
      ]
    },
    {
      "cell_type": "markdown",
      "source": [
        "Delete the File"
      ],
      "metadata": {
        "id": "3SwVNixQWVHq"
      }
    },
    {
      "cell_type": "code",
      "source": [
        "import os\n",
        "\n",
        "# Deleting the file\n",
        "file_name = 'practice.txt'\n",
        "if os.path.exists(file_name):\n",
        "    os.remove(file_name)\n",
        "    print(f\"'{file_name}' deleted successfully.\")\n",
        "else:\n",
        "    print(f\"'{file_name}' does not exist.\")\n"
      ],
      "metadata": {
        "colab": {
          "base_uri": "https://localhost:8080/"
        },
        "id": "ogPM4awOWccr",
        "outputId": "5f4fa584-b48c-47a7-8033-41c879ff1ebf"
      },
      "execution_count": 10,
      "outputs": [
        {
          "output_type": "stream",
          "name": "stdout",
          "text": [
            "'practice.txt' deleted successfully.\n"
          ]
        }
      ]
    }
  ]
}