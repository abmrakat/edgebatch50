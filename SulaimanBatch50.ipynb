{
  "nbformat": 4,
  "nbformat_minor": 0,
  "metadata": {
    "colab": {
      "provenance": [],
      "authorship_tag": "ABX9TyO05q8hX7d94tVgZexMWXsn",
      "include_colab_link": true
    },
    "kernelspec": {
      "name": "python3",
      "display_name": "Python 3"
    },
    "language_info": {
      "name": "python"
    }
  },
  "cells": [
    {
      "cell_type": "markdown",
      "metadata": {
        "id": "view-in-github",
        "colab_type": "text"
      },
      "source": [
        "<a href=\"https://colab.research.google.com/github/abmrakat/edgebatch50/blob/main/SulaimanBatch50.ipynb\" target=\"_parent\"><img src=\"https://colab.research.google.com/assets/colab-badge.svg\" alt=\"Open In Colab\"/></a>"
      ]
    },
    {
      "cell_type": "code",
      "source": [
        "# SimCal Module\n",
        "\n",
        "def add(a, b):\n",
        "    return a + b\n",
        "\n",
        "def sub(a, b):\n",
        "    if a > b:\n",
        "        return a - b\n",
        "    else:\n",
        "        return b - a\n",
        "\n",
        "def mul(a, b):\n",
        "    return a * b\n",
        "\n",
        "def div(a, b):\n",
        "    if b != 0:\n",
        "        return a / b\n",
        "    else:\n",
        "        return \"Infinity\"\n",
        "\n",
        "def pow(a, b):\n",
        "    return a ** b\n",
        "\n",
        "def mod(a, b):\n",
        "    if b != 0:\n",
        "        return a % b\n",
        "    else:\n",
        "        return \"Undefined (division by zero)\"\n"
      ],
      "metadata": {
        "id": "oCHfcCy1tUYy"
      },
      "execution_count": 17,
      "outputs": []
    },
    {
      "cell_type": "code",
      "source": [
        "# TestCal Driver Code\n",
        "\n",
        "import math  # Optional if needed for future enhancements\n",
        "\n",
        "while True:\n",
        "    print(\"\\nMenu:\")\n",
        "    print(\"1 - Add\")\n",
        "    print(\"2 - Subtract\")\n",
        "    print(\"3 - Multiply\")\n",
        "    print(\"4 - Divide\")\n",
        "    print(\"5 - Power (a^b)\")\n",
        "    print(\"6 - Modulus (a%b)\")\n",
        "    print(\"0 - Exit\")\n",
        "\n",
        "    choice = int(input(\"Your Choice: \"))\n",
        "\n",
        "    if choice == 0:\n",
        "        print(\"Exiting the program. Goodbye!\")\n",
        "        break\n",
        "\n",
        "    a = int(input(\"Enter a: \"))\n",
        "    b = int(input(\"Enter b: \"))\n",
        "\n",
        "    if choice == 1:\n",
        "        print(\"Result:\", add(a, b))\n",
        "    elif choice == 2:\n",
        "        print(\"Result:\", sub(a, b))\n",
        "    elif choice == 3:\n",
        "        print(\"Result:\", mul(a, b))\n",
        "    elif choice == 4:\n",
        "        print(\"Result:\", div(a, b))\n",
        "    elif choice == 5:\n",
        "        print(\"Result:\", pow(a, b))\n",
        "    elif choice == 6:\n",
        "        print(\"Result:\", mod(a, b))\n",
        "    else:\n",
        "        print(\"Invalid choice. Please select a valid option.\")\n"
      ],
      "metadata": {
        "colab": {
          "base_uri": "https://localhost:8080/"
        },
        "id": "S1pAww4jte-a",
        "outputId": "80812177-081c-46d2-be14-998fcb19650d"
      },
      "execution_count": 18,
      "outputs": [
        {
          "output_type": "stream",
          "name": "stdout",
          "text": [
            "\n",
            "Menu:\n",
            "1 - Add\n",
            "2 - Subtract\n",
            "3 - Multiply\n",
            "4 - Divide\n",
            "5 - Power (a^b)\n",
            "6 - Modulus (a%b)\n",
            "0 - Exit\n",
            "Your Choice: 1\n",
            "Enter a: 10\n",
            "Enter b: 5\n",
            "Result: 15\n",
            "\n",
            "Menu:\n",
            "1 - Add\n",
            "2 - Subtract\n",
            "3 - Multiply\n",
            "4 - Divide\n",
            "5 - Power (a^b)\n",
            "6 - Modulus (a%b)\n",
            "0 - Exit\n",
            "Your Choice: 4\n",
            "Enter a: 10\n",
            "Enter b: 0\n",
            "Result: Infinity\n",
            "\n",
            "Menu:\n",
            "1 - Add\n",
            "2 - Subtract\n",
            "3 - Multiply\n",
            "4 - Divide\n",
            "5 - Power (a^b)\n",
            "6 - Modulus (a%b)\n",
            "0 - Exit\n",
            "Your Choice: 5\n",
            "Enter a: 2\n",
            "Enter b: 3\n",
            "Result: 8\n",
            "\n",
            "Menu:\n",
            "1 - Add\n",
            "2 - Subtract\n",
            "3 - Multiply\n",
            "4 - Divide\n",
            "5 - Power (a^b)\n",
            "6 - Modulus (a%b)\n",
            "0 - Exit\n",
            "Your Choice: 6\n",
            "Enter a: 10\n",
            "Enter b: 3\n",
            "Result: 1\n",
            "\n",
            "Menu:\n",
            "1 - Add\n",
            "2 - Subtract\n",
            "3 - Multiply\n",
            "4 - Divide\n",
            "5 - Power (a^b)\n",
            "6 - Modulus (a%b)\n",
            "0 - Exit\n",
            "Your Choice: 0\n",
            "Exiting the program. Goodbye!\n"
          ]
        }
      ]
    }
  ]
}