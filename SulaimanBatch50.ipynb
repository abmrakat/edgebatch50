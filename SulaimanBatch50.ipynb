{
  "nbformat": 4,
  "nbformat_minor": 0,
  "metadata": {
    "colab": {
      "provenance": [],
      "authorship_tag": "ABX9TyOsaOpQYx0m/yRk4BVpYfUZ",
      "include_colab_link": true
    },
    "kernelspec": {
      "name": "python3",
      "display_name": "Python 3"
    },
    "language_info": {
      "name": "python"
    }
  },
  "cells": [
    {
      "cell_type": "markdown",
      "metadata": {
        "id": "view-in-github",
        "colab_type": "text"
      },
      "source": [
        "<a href=\"https://colab.research.google.com/github/abmrakat/edgebatch50/blob/main/SulaimanBatch50.ipynb\" target=\"_parent\"><img src=\"https://colab.research.google.com/assets/colab-badge.svg\" alt=\"Open In Colab\"/></a>"
      ]
    },
    {
      "cell_type": "markdown",
      "source": [
        "Practice Python Basics: Casting, String, Boolean and Operator"
      ],
      "metadata": {
        "id": "A-jFG3Kjl8CV"
      }
    },
    {
      "cell_type": "markdown",
      "source": [
        "Casting (Integers):"
      ],
      "metadata": {
        "id": "fs0aYgU2lNS9"
      }
    },
    {
      "cell_type": "code",
      "execution_count": 7,
      "metadata": {
        "colab": {
          "base_uri": "https://localhost:8080/"
        },
        "id": "h7dT0JiHlLwk",
        "outputId": "0c664f4c-cf6a-43a5-bb41-45729efb9c54"
      },
      "outputs": [
        {
          "output_type": "stream",
          "name": "stdout",
          "text": [
            "1\n",
            "2\n",
            "3\n"
          ]
        }
      ],
      "source": [
        "x = int(1)\n",
        "y = int(2.8)\n",
        "z = int(\"3\")\n",
        "print(x)\n",
        "print(y)\n",
        "print(z)"
      ]
    },
    {
      "cell_type": "markdown",
      "source": [
        "Casting (Floats):"
      ],
      "metadata": {
        "id": "9ckWQX3tmqee"
      }
    },
    {
      "cell_type": "code",
      "source": [
        "x = float(1)\n",
        "y = float(2.8)\n",
        "z = float(\"3\")\n",
        "w = float(\"4.2\")\n",
        "print(x)\n",
        "print(y)\n",
        "print(z)\n",
        "print(w)"
      ],
      "metadata": {
        "colab": {
          "base_uri": "https://localhost:8080/"
        },
        "id": "HrXri3FMm4eV",
        "outputId": "aaf4a50d-f9ac-4ebc-e30a-422a5051cd03"
      },
      "execution_count": 8,
      "outputs": [
        {
          "output_type": "stream",
          "name": "stdout",
          "text": [
            "1.0\n",
            "2.8\n",
            "3.0\n",
            "4.2\n"
          ]
        }
      ]
    },
    {
      "cell_type": "markdown",
      "source": [
        "Casting (Strings):"
      ],
      "metadata": {
        "id": "geDDBkwpnFCO"
      }
    },
    {
      "cell_type": "code",
      "source": [
        "x = str(\"s1\")\n",
        "y = str(2)\n",
        "z = str(3.0)\n",
        "print(x)\n",
        "print(y)\n",
        "print(z)"
      ],
      "metadata": {
        "colab": {
          "base_uri": "https://localhost:8080/"
        },
        "id": "h2DtapdVnPGd",
        "outputId": "66125539-d4bd-435a-c395-d854c59396aa"
      },
      "execution_count": 9,
      "outputs": [
        {
          "output_type": "stream",
          "name": "stdout",
          "text": [
            "s1\n",
            "2\n",
            "3.0\n"
          ]
        }
      ]
    },
    {
      "cell_type": "markdown",
      "source": [
        "String"
      ],
      "metadata": {
        "id": "wkGIHcornXsd"
      }
    },
    {
      "cell_type": "code",
      "source": [
        "print(\"Hello Rakat\")\n",
        "print('How are you')"
      ],
      "metadata": {
        "colab": {
          "base_uri": "https://localhost:8080/"
        },
        "id": "YyZYNhBtndOV",
        "outputId": "e84af84d-7e99-4ffa-fef4-cf5c95f62ad8"
      },
      "execution_count": 10,
      "outputs": [
        {
          "output_type": "stream",
          "name": "stdout",
          "text": [
            "Hello Rakat\n",
            "How are you\n"
          ]
        }
      ]
    },
    {
      "cell_type": "code",
      "source": [
        "a = '''The greatest glory in living lies not in never falling, but in rising every time we fall..'''\n",
        "print(a)"
      ],
      "metadata": {
        "colab": {
          "base_uri": "https://localhost:8080/"
        },
        "id": "dW0zesYVn-Go",
        "outputId": "72d9c977-e0a5-48e9-f958-916a48bad30d"
      },
      "execution_count": 11,
      "outputs": [
        {
          "output_type": "stream",
          "name": "stdout",
          "text": [
            "The greatest glory in living lies not in never falling, but in rising every time we fall..\n"
          ]
        }
      ]
    },
    {
      "cell_type": "markdown",
      "source": [
        "Slicing Strings"
      ],
      "metadata": {
        "id": "PTzvRdjAoTtO"
      }
    },
    {
      "cell_type": "code",
      "source": [
        "b = \"Hello, Rakat!\"\n",
        "print(b[2:5])"
      ],
      "metadata": {
        "colab": {
          "base_uri": "https://localhost:8080/"
        },
        "id": "pvCbT0FxocWw",
        "outputId": "b6ff5a9e-230d-47d9-d643-53f11a455936"
      },
      "execution_count": 12,
      "outputs": [
        {
          "output_type": "stream",
          "name": "stdout",
          "text": [
            "llo\n"
          ]
        }
      ]
    },
    {
      "cell_type": "markdown",
      "source": [
        "Slice To the Start"
      ],
      "metadata": {
        "id": "1PKJtEOUpG6w"
      }
    },
    {
      "cell_type": "code",
      "source": [
        "b = \"Rocket, Launge!\"\n",
        "print(b[:5])"
      ],
      "metadata": {
        "colab": {
          "base_uri": "https://localhost:8080/"
        },
        "id": "CyCyM8fUoxJ2",
        "outputId": "77ca23ab-c50a-4c6e-8e9d-58c8c61baf07"
      },
      "execution_count": 13,
      "outputs": [
        {
          "output_type": "stream",
          "name": "stdout",
          "text": [
            "Rocke\n"
          ]
        }
      ]
    },
    {
      "cell_type": "markdown",
      "source": [
        "Slice To the End"
      ],
      "metadata": {
        "id": "bhyG2hOdpYpX"
      }
    },
    {
      "cell_type": "code",
      "source": [
        "b = \"Chocolote, World!\"\n",
        "print(b[2:])"
      ],
      "metadata": {
        "colab": {
          "base_uri": "https://localhost:8080/"
        },
        "id": "-_KwMx_zpZ37",
        "outputId": "edba45d0-5638-4df4-9c1e-f854bb108f75"
      },
      "execution_count": 14,
      "outputs": [
        {
          "output_type": "stream",
          "name": "stdout",
          "text": [
            "ocolote, World!\n"
          ]
        }
      ]
    },
    {
      "cell_type": "markdown",
      "source": [
        "Negative Indexing\n"
      ],
      "metadata": {
        "id": "rntB0nw7pug5"
      }
    },
    {
      "cell_type": "code",
      "source": [
        "b = \"Chips, World!\"\n",
        "print(b[-5:-2])"
      ],
      "metadata": {
        "colab": {
          "base_uri": "https://localhost:8080/"
        },
        "id": "P6qvpQAepvYI",
        "outputId": "c9a3694d-ee1d-4350-e6f8-70025022a081"
      },
      "execution_count": 17,
      "outputs": [
        {
          "output_type": "stream",
          "name": "stdout",
          "text": [
            "orl\n"
          ]
        }
      ]
    },
    {
      "cell_type": "markdown",
      "source": [
        "Python Booleans"
      ],
      "metadata": {
        "id": "kJXEVCkBqIlw"
      }
    },
    {
      "cell_type": "code",
      "source": [
        "a = 200\n",
        "b = 33\n",
        "\n",
        "if b > a:\n",
        "  print(\"b is greater than a\")\n",
        "else:\n",
        "  print(\"b is not greater than a\")"
      ],
      "metadata": {
        "colab": {
          "base_uri": "https://localhost:8080/"
        },
        "id": "TgKX0tUAqJtQ",
        "outputId": "1d0c606d-6744-429a-9a5b-4e825e406251"
      },
      "execution_count": 18,
      "outputs": [
        {
          "output_type": "stream",
          "name": "stdout",
          "text": [
            "b is not greater than a\n"
          ]
        }
      ]
    },
    {
      "cell_type": "code",
      "source": [
        "print(bool(\"Hello\"))\n",
        "print(bool(15))"
      ],
      "metadata": {
        "colab": {
          "base_uri": "https://localhost:8080/"
        },
        "id": "fpk61mv8q1K5",
        "outputId": "def7d5d4-d0dc-485f-a3c0-3f43d098e8e1"
      },
      "execution_count": 19,
      "outputs": [
        {
          "output_type": "stream",
          "name": "stdout",
          "text": [
            "True\n",
            "True\n"
          ]
        }
      ]
    },
    {
      "cell_type": "code",
      "source": [
        "bool(\"abc\")\n",
        "bool(123)\n",
        "bool([\"apple\", \"cherry\", \"banana\"])"
      ],
      "metadata": {
        "colab": {
          "base_uri": "https://localhost:8080/"
        },
        "id": "QqoBueC9rJWy",
        "outputId": "df60fc19-fbe0-41d1-df50-12f58059f40a"
      },
      "execution_count": 21,
      "outputs": [
        {
          "output_type": "execute_result",
          "data": {
            "text/plain": [
              "True"
            ]
          },
          "metadata": {},
          "execution_count": 21
        }
      ]
    },
    {
      "cell_type": "code",
      "source": [
        "print(bool(False))\n",
        "print(bool(None))\n",
        "print(bool(0))\n",
        "print(bool(\"\"))\n",
        "print(bool(()))\n",
        "print(bool([]))\n",
        "print(bool({}))"
      ],
      "metadata": {
        "colab": {
          "base_uri": "https://localhost:8080/"
        },
        "id": "hLjxLrQzrV3b",
        "outputId": "286cc23b-196f-43e7-8e41-e00ac4447737"
      },
      "execution_count": 22,
      "outputs": [
        {
          "output_type": "stream",
          "name": "stdout",
          "text": [
            "False\n",
            "False\n",
            "False\n",
            "False\n",
            "False\n",
            "False\n",
            "False\n"
          ]
        }
      ]
    },
    {
      "cell_type": "code",
      "source": [
        "def myFunction() :\n",
        "  return True\n",
        "\n",
        "if myFunction():\n",
        "  print(\"YES!\")\n",
        "else:\n",
        "  print(\"NO!\")"
      ],
      "metadata": {
        "colab": {
          "base_uri": "https://localhost:8080/"
        },
        "id": "L69yzirqrejp",
        "outputId": "5b8bf94c-0b30-4209-b1df-a146f7c8929e"
      },
      "execution_count": 23,
      "outputs": [
        {
          "output_type": "stream",
          "name": "stdout",
          "text": [
            "YES!\n"
          ]
        }
      ]
    },
    {
      "cell_type": "code",
      "source": [
        "x = 200\n",
        "print(isinstance(x, int))"
      ],
      "metadata": {
        "colab": {
          "base_uri": "https://localhost:8080/"
        },
        "id": "g3ZcZIpFrjIy",
        "outputId": "4045184a-0688-4827-d37c-52f39d219220"
      },
      "execution_count": 24,
      "outputs": [
        {
          "output_type": "stream",
          "name": "stdout",
          "text": [
            "True\n"
          ]
        }
      ]
    },
    {
      "cell_type": "markdown",
      "source": [
        "Python Operators"
      ],
      "metadata": {
        "id": "3CYF9Dz7rsRy"
      }
    },
    {
      "cell_type": "code",
      "source": [
        "print(10 + 5)"
      ],
      "metadata": {
        "colab": {
          "base_uri": "https://localhost:8080/"
        },
        "id": "dmma01BZrtIi",
        "outputId": "7d554eed-7ce7-4258-cdc0-ce9d0562626b"
      },
      "execution_count": 25,
      "outputs": [
        {
          "output_type": "stream",
          "name": "stdout",
          "text": [
            "15\n"
          ]
        }
      ]
    },
    {
      "cell_type": "markdown",
      "source": [
        "Python Arithmetic Operators"
      ],
      "metadata": {
        "id": "WK71XBzcsBhT"
      }
    },
    {
      "cell_type": "markdown",
      "source": [
        "Addition"
      ],
      "metadata": {
        "id": "3jIc6UBesOzs"
      }
    },
    {
      "cell_type": "code",
      "source": [
        "x = 5\n",
        "y = 3\n",
        "\n",
        "print(x + y)"
      ],
      "metadata": {
        "colab": {
          "base_uri": "https://localhost:8080/"
        },
        "id": "nrt7TBERsHUj",
        "outputId": "ee5d40cd-cbf4-4f8e-fd43-52652007f8e1"
      },
      "execution_count": 27,
      "outputs": [
        {
          "output_type": "stream",
          "name": "stdout",
          "text": [
            "8\n"
          ]
        }
      ]
    },
    {
      "cell_type": "markdown",
      "source": [
        "Subtraction"
      ],
      "metadata": {
        "id": "FDtSR9jMsU-z"
      }
    },
    {
      "cell_type": "code",
      "source": [
        "x = 5\n",
        "y = 3\n",
        "\n",
        "print(x - y)"
      ],
      "metadata": {
        "colab": {
          "base_uri": "https://localhost:8080/"
        },
        "id": "XKeFO2lrsYfb",
        "outputId": "e562e14d-18da-4d4e-88b1-9e88942fdaf0"
      },
      "execution_count": 28,
      "outputs": [
        {
          "output_type": "stream",
          "name": "stdout",
          "text": [
            "2\n"
          ]
        }
      ]
    },
    {
      "cell_type": "markdown",
      "source": [
        "Multiplication"
      ],
      "metadata": {
        "id": "uOy7XgCGscKT"
      }
    },
    {
      "cell_type": "code",
      "source": [
        "x = 5\n",
        "y = 3\n",
        "\n",
        "print(x * y)"
      ],
      "metadata": {
        "colab": {
          "base_uri": "https://localhost:8080/"
        },
        "id": "LtKBmNxGshHM",
        "outputId": "f149054a-56ea-480b-ba78-5a06c55c112d"
      },
      "execution_count": 29,
      "outputs": [
        {
          "output_type": "stream",
          "name": "stdout",
          "text": [
            "15\n"
          ]
        }
      ]
    },
    {
      "cell_type": "markdown",
      "source": [
        "Division"
      ],
      "metadata": {
        "id": "sFO9HvLssnpa"
      }
    },
    {
      "cell_type": "code",
      "source": [
        "x = 12\n",
        "y = 3\n",
        "\n",
        "print(x / y)"
      ],
      "metadata": {
        "colab": {
          "base_uri": "https://localhost:8080/"
        },
        "id": "dF6O6zmOsxJ6",
        "outputId": "732f15f8-5269-4abc-f134-faffa65651cb"
      },
      "execution_count": 30,
      "outputs": [
        {
          "output_type": "stream",
          "name": "stdout",
          "text": [
            "4.0\n"
          ]
        }
      ]
    },
    {
      "cell_type": "markdown",
      "source": [
        "Modulus"
      ],
      "metadata": {
        "id": "FTBkNHNOs1n0"
      }
    },
    {
      "cell_type": "code",
      "source": [
        "x = 5\n",
        "y = 2\n",
        "\n",
        "print(x % y)"
      ],
      "metadata": {
        "colab": {
          "base_uri": "https://localhost:8080/"
        },
        "id": "ajBLx2eZs49L",
        "outputId": "58183573-21f9-42e5-99cb-533aa76236c1"
      },
      "execution_count": 31,
      "outputs": [
        {
          "output_type": "stream",
          "name": "stdout",
          "text": [
            "1\n"
          ]
        }
      ]
    },
    {
      "cell_type": "markdown",
      "source": [
        "Exponentiation"
      ],
      "metadata": {
        "id": "curKsQArs92L"
      }
    },
    {
      "cell_type": "code",
      "source": [
        "x = 2\n",
        "y = 5\n",
        "\n",
        "print(x ** y) #same as 2*2*2*2*2"
      ],
      "metadata": {
        "colab": {
          "base_uri": "https://localhost:8080/"
        },
        "id": "Ynazqr6itOax",
        "outputId": "a1e762e3-93e9-405e-e5d3-88fa2e74f172"
      },
      "execution_count": 32,
      "outputs": [
        {
          "output_type": "stream",
          "name": "stdout",
          "text": [
            "32\n"
          ]
        }
      ]
    },
    {
      "cell_type": "markdown",
      "source": [
        "Floor division"
      ],
      "metadata": {
        "id": "bm3ulLYktaMs"
      }
    },
    {
      "cell_type": "code",
      "source": [
        "x = 15\n",
        "y = 2\n",
        "\n",
        "print(x // y)"
      ],
      "metadata": {
        "colab": {
          "base_uri": "https://localhost:8080/"
        },
        "id": "RH0OfthYtc2b",
        "outputId": "2419f5ee-787d-432f-fe21-ec3753080d1f"
      },
      "execution_count": 33,
      "outputs": [
        {
          "output_type": "stream",
          "name": "stdout",
          "text": [
            "7\n"
          ]
        }
      ]
    },
    {
      "cell_type": "markdown",
      "source": [
        "Python Assignment Operators"
      ],
      "metadata": {
        "id": "PCcaBkp9tiYo"
      }
    },
    {
      "cell_type": "code",
      "source": [
        "x = 5\n",
        "\n",
        "print(x)"
      ],
      "metadata": {
        "colab": {
          "base_uri": "https://localhost:8080/"
        },
        "id": "TPUutZPptruE",
        "outputId": "638302e2-b058-4b0e-8ba8-adb4695473df"
      },
      "execution_count": 34,
      "outputs": [
        {
          "output_type": "stream",
          "name": "stdout",
          "text": [
            "5\n"
          ]
        }
      ]
    },
    {
      "cell_type": "code",
      "source": [
        "x = 5\n",
        "\n",
        "x += 3\n",
        "\n",
        "print(x)"
      ],
      "metadata": {
        "colab": {
          "base_uri": "https://localhost:8080/"
        },
        "id": "IZ5h7ESlt1DL",
        "outputId": "9c80a693-3036-4bbb-b7af-6258e20881e6"
      },
      "execution_count": 35,
      "outputs": [
        {
          "output_type": "stream",
          "name": "stdout",
          "text": [
            "8\n"
          ]
        }
      ]
    },
    {
      "cell_type": "code",
      "source": [
        "x = 5\n",
        "\n",
        "x -= 3\n",
        "\n",
        "print(x)"
      ],
      "metadata": {
        "colab": {
          "base_uri": "https://localhost:8080/"
        },
        "id": "0n6KV9Vgt9wM",
        "outputId": "17c49547-98e7-4e76-fa82-96652e9f930a"
      },
      "execution_count": 36,
      "outputs": [
        {
          "output_type": "stream",
          "name": "stdout",
          "text": [
            "2\n"
          ]
        }
      ]
    },
    {
      "cell_type": "code",
      "source": [
        "x = 5\n",
        "\n",
        "x *= 3\n",
        "\n",
        "print(x)\n"
      ],
      "metadata": {
        "colab": {
          "base_uri": "https://localhost:8080/"
        },
        "id": "wCe7djSEuASc",
        "outputId": "7ffa5c7d-8c7b-485f-e779-69923fdb429e"
      },
      "execution_count": 37,
      "outputs": [
        {
          "output_type": "stream",
          "name": "stdout",
          "text": [
            "15\n"
          ]
        }
      ]
    },
    {
      "cell_type": "code",
      "source": [
        "x = 5\n",
        "\n",
        "x /= 3\n",
        "\n",
        "print(x)"
      ],
      "metadata": {
        "colab": {
          "base_uri": "https://localhost:8080/"
        },
        "id": "w6BIU5PQuIfM",
        "outputId": "b3e7bdb8-6226-47b8-fc77-30a45276618c"
      },
      "execution_count": 38,
      "outputs": [
        {
          "output_type": "stream",
          "name": "stdout",
          "text": [
            "1.6666666666666667\n"
          ]
        }
      ]
    },
    {
      "cell_type": "code",
      "source": [
        "x = 5\n",
        "\n",
        "x%=3\n",
        "\n",
        "print(x)"
      ],
      "metadata": {
        "colab": {
          "base_uri": "https://localhost:8080/"
        },
        "id": "HIhEz43muOgV",
        "outputId": "4a8215a4-3550-4ab9-9906-1ce711fcaa96"
      },
      "execution_count": 39,
      "outputs": [
        {
          "output_type": "stream",
          "name": "stdout",
          "text": [
            "2\n"
          ]
        }
      ]
    },
    {
      "cell_type": "code",
      "source": [
        "x = 5\n",
        "\n",
        "x//=3\n",
        "\n",
        "print(x)"
      ],
      "metadata": {
        "colab": {
          "base_uri": "https://localhost:8080/"
        },
        "id": "AswfnJARuUem",
        "outputId": "f60248c4-7b71-4060-8f3e-7f8be2c858e2"
      },
      "execution_count": 40,
      "outputs": [
        {
          "output_type": "stream",
          "name": "stdout",
          "text": [
            "1\n"
          ]
        }
      ]
    },
    {
      "cell_type": "code",
      "source": [
        "x = 5\n",
        "\n",
        "x **= 3\n",
        "\n",
        "print(x)"
      ],
      "metadata": {
        "colab": {
          "base_uri": "https://localhost:8080/"
        },
        "id": "IiHZEWwwuYcV",
        "outputId": "9fa51b6f-ffd3-463c-e12f-4700970257ea"
      },
      "execution_count": 41,
      "outputs": [
        {
          "output_type": "stream",
          "name": "stdout",
          "text": [
            "125\n"
          ]
        }
      ]
    },
    {
      "cell_type": "code",
      "source": [
        "x = 5\n",
        "\n",
        "x &= 3\n",
        "\n",
        "print(x)"
      ],
      "metadata": {
        "colab": {
          "base_uri": "https://localhost:8080/"
        },
        "id": "-qx5OmcAudtO",
        "outputId": "c16871af-db5c-45c2-ad7f-e4c567b9dda3"
      },
      "execution_count": 42,
      "outputs": [
        {
          "output_type": "stream",
          "name": "stdout",
          "text": [
            "1\n"
          ]
        }
      ]
    },
    {
      "cell_type": "code",
      "source": [
        "x = 5\n",
        "\n",
        "x |= 3\n",
        "\n",
        "print(x)"
      ],
      "metadata": {
        "colab": {
          "base_uri": "https://localhost:8080/"
        },
        "id": "lUbJY0dquiNu",
        "outputId": "80ced540-0055-4a09-89ee-e2cd9931a63e"
      },
      "execution_count": 43,
      "outputs": [
        {
          "output_type": "stream",
          "name": "stdout",
          "text": [
            "7\n"
          ]
        }
      ]
    },
    {
      "cell_type": "code",
      "source": [
        "x = 5\n",
        "\n",
        "x ^= 3\n",
        "\n",
        "print(x)"
      ],
      "metadata": {
        "colab": {
          "base_uri": "https://localhost:8080/"
        },
        "id": "jiZlkkn6utK-",
        "outputId": "112e03a2-96dd-4b8e-e071-8594cc66cace"
      },
      "execution_count": 45,
      "outputs": [
        {
          "output_type": "stream",
          "name": "stdout",
          "text": [
            "6\n"
          ]
        }
      ]
    },
    {
      "cell_type": "code",
      "source": [
        "x = 5\n",
        "\n",
        "x >>= 3\n",
        "\n",
        "print(x)"
      ],
      "metadata": {
        "colab": {
          "base_uri": "https://localhost:8080/"
        },
        "id": "gPTkL7Dhuokm",
        "outputId": "efec33f5-6454-42a0-fd92-473c58614367"
      },
      "execution_count": 47,
      "outputs": [
        {
          "output_type": "stream",
          "name": "stdout",
          "text": [
            "0\n"
          ]
        }
      ]
    },
    {
      "cell_type": "code",
      "source": [
        "x = 5\n",
        "\n",
        "x <<= 3\n",
        "\n",
        "print(x)"
      ],
      "metadata": {
        "colab": {
          "base_uri": "https://localhost:8080/"
        },
        "id": "BRRioZQ3u4Nu",
        "outputId": "67ea624d-e64e-4c88-f2f2-800b55f93274"
      },
      "execution_count": 48,
      "outputs": [
        {
          "output_type": "stream",
          "name": "stdout",
          "text": [
            "40\n"
          ]
        }
      ]
    },
    {
      "cell_type": "code",
      "source": [
        "print(x := 3)"
      ],
      "metadata": {
        "colab": {
          "base_uri": "https://localhost:8080/"
        },
        "id": "iF1NksEKu564",
        "outputId": "763de6da-564d-484b-9630-512455970e3f"
      },
      "execution_count": 49,
      "outputs": [
        {
          "output_type": "stream",
          "name": "stdout",
          "text": [
            "3\n"
          ]
        }
      ]
    },
    {
      "cell_type": "markdown",
      "source": [
        "Python Comparison Operators"
      ],
      "metadata": {
        "id": "8_6YPye4vB4O"
      }
    },
    {
      "cell_type": "markdown",
      "source": [
        "Equal"
      ],
      "metadata": {
        "id": "z6vgS8-IvgHm"
      }
    },
    {
      "cell_type": "code",
      "source": [
        "x = 5\n",
        "y = 3\n",
        "\n",
        "print(x == y)"
      ],
      "metadata": {
        "colab": {
          "base_uri": "https://localhost:8080/"
        },
        "id": "CVut4eJrvCjO",
        "outputId": "3af8358c-6a7f-445f-a77e-a5cec79a078b"
      },
      "execution_count": 50,
      "outputs": [
        {
          "output_type": "stream",
          "name": "stdout",
          "text": [
            "False\n"
          ]
        }
      ]
    },
    {
      "cell_type": "markdown",
      "source": [
        "Not equal"
      ],
      "metadata": {
        "id": "HP5Dy8tgvrSu"
      }
    },
    {
      "cell_type": "code",
      "source": [
        "x = 5\n",
        "y = 3\n",
        "\n",
        "print(x != y)"
      ],
      "metadata": {
        "colab": {
          "base_uri": "https://localhost:8080/"
        },
        "id": "YYgRgZaTvsCG",
        "outputId": "a4a64ca5-3564-41cb-b3d9-17e470ecf179"
      },
      "execution_count": 51,
      "outputs": [
        {
          "output_type": "stream",
          "name": "stdout",
          "text": [
            "True\n"
          ]
        }
      ]
    },
    {
      "cell_type": "markdown",
      "source": [
        "Greater than"
      ],
      "metadata": {
        "id": "Dwbg2Ci6vwKO"
      }
    },
    {
      "cell_type": "code",
      "source": [
        "x = 5\n",
        "y = 3\n",
        "\n",
        "print(x > y)"
      ],
      "metadata": {
        "colab": {
          "base_uri": "https://localhost:8080/"
        },
        "id": "UDtZ2eO_vzyQ",
        "outputId": "658f0b01-24f7-4e47-ffe9-f1d611fbe426"
      },
      "execution_count": 52,
      "outputs": [
        {
          "output_type": "stream",
          "name": "stdout",
          "text": [
            "True\n"
          ]
        }
      ]
    },
    {
      "cell_type": "markdown",
      "source": [
        "Less than"
      ],
      "metadata": {
        "id": "WR1As47ev4qn"
      }
    },
    {
      "cell_type": "code",
      "source": [
        "x = 5\n",
        "y = 3\n",
        "\n",
        "print(x < y)"
      ],
      "metadata": {
        "colab": {
          "base_uri": "https://localhost:8080/"
        },
        "id": "F5LMmYgSwBCB",
        "outputId": "81c752eb-cbe7-457c-bc8f-e04e886382d5"
      },
      "execution_count": 53,
      "outputs": [
        {
          "output_type": "stream",
          "name": "stdout",
          "text": [
            "False\n"
          ]
        }
      ]
    },
    {
      "cell_type": "markdown",
      "source": [
        "Greater than or equal to"
      ],
      "metadata": {
        "id": "o5MzT8JPwHm5"
      }
    },
    {
      "cell_type": "code",
      "source": [
        "x = 5\n",
        "y = 3\n",
        "\n",
        "print(x >= y)"
      ],
      "metadata": {
        "colab": {
          "base_uri": "https://localhost:8080/"
        },
        "id": "j9SpfhIswIR4",
        "outputId": "d00fd8f6-eafd-474a-e412-f22dca17e76e"
      },
      "execution_count": 54,
      "outputs": [
        {
          "output_type": "stream",
          "name": "stdout",
          "text": [
            "True\n"
          ]
        }
      ]
    },
    {
      "cell_type": "markdown",
      "source": [
        "Less than or equal to"
      ],
      "metadata": {
        "id": "Xt2m-bhBwMKp"
      }
    },
    {
      "cell_type": "code",
      "source": [
        "x = 5\n",
        "y = 3\n",
        "\n",
        "print(x <= y)"
      ],
      "metadata": {
        "colab": {
          "base_uri": "https://localhost:8080/"
        },
        "id": "UqjgJFY1wMbP",
        "outputId": "58414373-12f0-41c8-f92d-b364e4439a31"
      },
      "execution_count": 55,
      "outputs": [
        {
          "output_type": "stream",
          "name": "stdout",
          "text": [
            "False\n"
          ]
        }
      ]
    },
    {
      "cell_type": "markdown",
      "source": [
        "Python Logical Operators"
      ],
      "metadata": {
        "id": "NVlbC8v4wUDI"
      }
    },
    {
      "cell_type": "markdown",
      "source": [
        "and"
      ],
      "metadata": {
        "id": "Yw2iCZj8wjy_"
      }
    },
    {
      "cell_type": "code",
      "source": [
        "x = 5\n",
        "\n",
        "print(x > 3 and x < 10)"
      ],
      "metadata": {
        "colab": {
          "base_uri": "https://localhost:8080/"
        },
        "id": "xsKK17unwoFY",
        "outputId": "4e55ea1c-64c3-423f-bb89-6ca4d7162644"
      },
      "execution_count": 56,
      "outputs": [
        {
          "output_type": "stream",
          "name": "stdout",
          "text": [
            "True\n"
          ]
        }
      ]
    },
    {
      "cell_type": "markdown",
      "source": [
        "or"
      ],
      "metadata": {
        "id": "ykdXYo3Aw01H"
      }
    },
    {
      "cell_type": "code",
      "source": [
        "x = 5\n",
        "\n",
        "print(x > 3 or x < 4)"
      ],
      "metadata": {
        "colab": {
          "base_uri": "https://localhost:8080/"
        },
        "id": "JwaW9AKDw1cx",
        "outputId": "1cdc0c70-304c-4373-ac11-a01af8e56222"
      },
      "execution_count": 57,
      "outputs": [
        {
          "output_type": "stream",
          "name": "stdout",
          "text": [
            "True\n"
          ]
        }
      ]
    },
    {
      "cell_type": "markdown",
      "source": [
        "not"
      ],
      "metadata": {
        "id": "NcZyy3Ijw5ef"
      }
    },
    {
      "cell_type": "code",
      "source": [
        "x = 5\n",
        "\n",
        "print(not(x > 3 and x < 10))\n"
      ],
      "metadata": {
        "colab": {
          "base_uri": "https://localhost:8080/"
        },
        "id": "cjVDjNDXw8F5",
        "outputId": "98db1936-f6d6-47c9-b635-019bf358f3e4"
      },
      "execution_count": 58,
      "outputs": [
        {
          "output_type": "stream",
          "name": "stdout",
          "text": [
            "False\n"
          ]
        }
      ]
    },
    {
      "cell_type": "markdown",
      "source": [
        "Python Identity Operators"
      ],
      "metadata": {
        "id": "Jnq68pjIxMih"
      }
    },
    {
      "cell_type": "markdown",
      "source": [
        "is"
      ],
      "metadata": {
        "id": "65okCuEPxPlg"
      }
    },
    {
      "cell_type": "code",
      "source": [
        "x = [\"apple\", \"banana\"]\n",
        "y = [\"apple\", \"banana\"]\n",
        "z = x\n",
        "\n",
        "print(x is z)\n",
        "\n",
        "# returns True because z is the same object as x\n",
        "\n",
        "print(x is y)\n",
        "\n",
        "# returns False because x is not the same object as y, even if they have the same content\n",
        "\n",
        "print(x == y)\n",
        "\n",
        "# to demonstrate the difference betweeen \"is\" and \"==\": this comparison returns True because x is equal to y\n"
      ],
      "metadata": {
        "colab": {
          "base_uri": "https://localhost:8080/"
        },
        "id": "28iAAXODxNe5",
        "outputId": "5b243d93-f48d-4e31-c9c7-4a79d4e17b1f"
      },
      "execution_count": 59,
      "outputs": [
        {
          "output_type": "stream",
          "name": "stdout",
          "text": [
            "True\n",
            "False\n",
            "True\n"
          ]
        }
      ]
    },
    {
      "cell_type": "markdown",
      "source": [
        "is not"
      ],
      "metadata": {
        "id": "PN4tUfQOxXM5"
      }
    },
    {
      "cell_type": "code",
      "source": [
        "x = [\"apple\", \"banana\"]\n",
        "y = [\"apple\", \"banana\"]\n",
        "z = x\n",
        "\n",
        "print(x is not z)\n",
        "\n",
        "# returns False because z is the same object as x\n",
        "\n",
        "print(x is not y)\n",
        "\n",
        "# returns True because x is not the same object as y, even if they have the same content\n",
        "\n",
        "print(x != y)\n",
        "\n",
        "# to demonstrate the difference betweeen \"is not\" and \"!=\": this comparison returns False because x is equal to y\n"
      ],
      "metadata": {
        "colab": {
          "base_uri": "https://localhost:8080/"
        },
        "id": "sFrwM_nZxbZ5",
        "outputId": "b3f68594-d610-453e-a811-1cb955e7051f"
      },
      "execution_count": 60,
      "outputs": [
        {
          "output_type": "stream",
          "name": "stdout",
          "text": [
            "False\n",
            "True\n",
            "False\n"
          ]
        }
      ]
    },
    {
      "cell_type": "markdown",
      "source": [
        "Python Membership Operators"
      ],
      "metadata": {
        "id": "11T5MTlfxq_J"
      }
    },
    {
      "cell_type": "markdown",
      "source": [
        "in"
      ],
      "metadata": {
        "id": "dJNjDm3dxuup"
      }
    },
    {
      "cell_type": "code",
      "source": [
        "x = [\"apple\", \"banana\"]\n",
        "\n",
        "print(\"banana\" in x)\n",
        "\n",
        "# returns True because a sequence with the value \"banana\" is in the list"
      ],
      "metadata": {
        "colab": {
          "base_uri": "https://localhost:8080/"
        },
        "id": "kww0Yodixrrh",
        "outputId": "9981b33d-c1b2-4514-9ef7-8255686a0a5e"
      },
      "execution_count": 61,
      "outputs": [
        {
          "output_type": "stream",
          "name": "stdout",
          "text": [
            "True\n"
          ]
        }
      ]
    },
    {
      "cell_type": "markdown",
      "source": [
        "not in"
      ],
      "metadata": {
        "id": "EnWy6mFNx0ej"
      }
    },
    {
      "cell_type": "code",
      "source": [
        "x = [\"apple\", \"banana\"]\n",
        "\n",
        "print(\"pineapple\" not in x)\n",
        "\n",
        "# returns True because a sequence with the value \"pineapple\" is not in the list\n"
      ],
      "metadata": {
        "colab": {
          "base_uri": "https://localhost:8080/"
        },
        "id": "9PM9B358x3bJ",
        "outputId": "d33e5d6b-e7fc-41dd-bac2-ac94cd28614a"
      },
      "execution_count": 62,
      "outputs": [
        {
          "output_type": "stream",
          "name": "stdout",
          "text": [
            "True\n"
          ]
        }
      ]
    },
    {
      "cell_type": "markdown",
      "source": [
        "Python Bitwise Operators"
      ],
      "metadata": {
        "id": "ZZQ_R-e7yIt5"
      }
    },
    {
      "cell_type": "markdown",
      "source": [
        "AND"
      ],
      "metadata": {
        "id": "hSWRr9NiyQ4C"
      }
    },
    {
      "cell_type": "code",
      "source": [
        "print(6 & 3)"
      ],
      "metadata": {
        "colab": {
          "base_uri": "https://localhost:8080/"
        },
        "id": "QSP50-fByRkR",
        "outputId": "6fb0b0e1-40be-46e6-db0b-e37b52d22ce0"
      },
      "execution_count": 63,
      "outputs": [
        {
          "output_type": "stream",
          "name": "stdout",
          "text": [
            "2\n"
          ]
        }
      ]
    },
    {
      "cell_type": "markdown",
      "source": [
        "OR"
      ],
      "metadata": {
        "id": "ill_2ynoyeq8"
      }
    },
    {
      "cell_type": "code",
      "source": [
        "print(6 | 3)"
      ],
      "metadata": {
        "colab": {
          "base_uri": "https://localhost:8080/"
        },
        "id": "QDfVYIE7yg-7",
        "outputId": "f3315e2f-b21d-4ec2-b40e-3f7d6b55ea3d"
      },
      "execution_count": 64,
      "outputs": [
        {
          "output_type": "stream",
          "name": "stdout",
          "text": [
            "7\n"
          ]
        }
      ]
    },
    {
      "cell_type": "markdown",
      "source": [
        "XOR"
      ],
      "metadata": {
        "id": "k7WK1Zilyrxk"
      }
    },
    {
      "cell_type": "code",
      "source": [
        "print(6 ^ 3)"
      ],
      "metadata": {
        "colab": {
          "base_uri": "https://localhost:8080/"
        },
        "id": "3dlk0g-tysiZ",
        "outputId": "65e74388-a5ff-4d12-fadd-aed2b151eb2f"
      },
      "execution_count": 65,
      "outputs": [
        {
          "output_type": "stream",
          "name": "stdout",
          "text": [
            "5\n"
          ]
        }
      ]
    },
    {
      "cell_type": "markdown",
      "source": [
        "NOT"
      ],
      "metadata": {
        "id": "74MqKlhTywIK"
      }
    },
    {
      "cell_type": "code",
      "source": [
        "print(~3)"
      ],
      "metadata": {
        "colab": {
          "base_uri": "https://localhost:8080/"
        },
        "id": "9AYwiRaoyzIj",
        "outputId": "0b7b1d87-2bff-49c7-e5a8-907426b86e9c"
      },
      "execution_count": 66,
      "outputs": [
        {
          "output_type": "stream",
          "name": "stdout",
          "text": [
            "-4\n"
          ]
        }
      ]
    },
    {
      "cell_type": "markdown",
      "source": [
        "Zero fill left shift"
      ],
      "metadata": {
        "id": "Z-h8ZvRey27j"
      }
    },
    {
      "cell_type": "code",
      "source": [
        "print(3 << 2)"
      ],
      "metadata": {
        "colab": {
          "base_uri": "https://localhost:8080/"
        },
        "id": "oU356z9cy6hd",
        "outputId": "2c582267-0796-4047-c05f-49b9e7cc4576"
      },
      "execution_count": 67,
      "outputs": [
        {
          "output_type": "stream",
          "name": "stdout",
          "text": [
            "12\n"
          ]
        }
      ]
    },
    {
      "cell_type": "markdown",
      "source": [
        "Signed right shift"
      ],
      "metadata": {
        "id": "omVSmxj-zBLP"
      }
    },
    {
      "cell_type": "code",
      "source": [
        "print(8 >> 2)"
      ],
      "metadata": {
        "colab": {
          "base_uri": "https://localhost:8080/"
        },
        "id": "hoTpcfUCy_6E",
        "outputId": "a7a44a01-0f72-4028-e3b4-b5af6eac3b34"
      },
      "execution_count": 68,
      "outputs": [
        {
          "output_type": "stream",
          "name": "stdout",
          "text": [
            "2\n"
          ]
        }
      ]
    },
    {
      "cell_type": "markdown",
      "source": [
        "Operator Precedence"
      ],
      "metadata": {
        "id": "aLIgCxixzNCr"
      }
    },
    {
      "cell_type": "code",
      "source": [
        "print((6 + 3) - (6 + 3))"
      ],
      "metadata": {
        "colab": {
          "base_uri": "https://localhost:8080/"
        },
        "id": "lESMOR8UzNzb",
        "outputId": "1b31434b-cb9e-4d06-eaf3-f53d9abb2e53"
      },
      "execution_count": 69,
      "outputs": [
        {
          "output_type": "stream",
          "name": "stdout",
          "text": [
            "0\n"
          ]
        }
      ]
    },
    {
      "cell_type": "code",
      "source": [
        "print(100 + 5 * 3)"
      ],
      "metadata": {
        "colab": {
          "base_uri": "https://localhost:8080/"
        },
        "id": "itmCzz8ezVBM",
        "outputId": "2bb6195e-6b98-4773-baed-1152947d2177"
      },
      "execution_count": 70,
      "outputs": [
        {
          "output_type": "stream",
          "name": "stdout",
          "text": [
            "115\n"
          ]
        }
      ]
    },
    {
      "cell_type": "code",
      "source": [
        "print(5 + 4 - 7 + 3)"
      ],
      "metadata": {
        "colab": {
          "base_uri": "https://localhost:8080/"
        },
        "id": "ppNzaO3QzmGD",
        "outputId": "ebad368b-79e1-4ba8-dcf3-628902987bed"
      },
      "execution_count": 71,
      "outputs": [
        {
          "output_type": "stream",
          "name": "stdout",
          "text": [
            "5\n"
          ]
        }
      ]
    }
  ]
}