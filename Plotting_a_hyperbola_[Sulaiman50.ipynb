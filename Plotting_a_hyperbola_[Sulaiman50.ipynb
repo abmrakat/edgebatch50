{
  "nbformat": 4,
  "nbformat_minor": 0,
  "metadata": {
    "colab": {
      "provenance": [],
      "authorship_tag": "ABX9TyNLSLlu8NJ7k90/CbLOW+FL",
      "include_colab_link": true
    },
    "kernelspec": {
      "name": "python3",
      "display_name": "Python 3"
    },
    "language_info": {
      "name": "python"
    }
  },
  "cells": [
    {
      "cell_type": "markdown",
      "metadata": {
        "id": "view-in-github",
        "colab_type": "text"
      },
      "source": [
        "<a href=\"https://colab.research.google.com/github/abmrakat/edgebatch50/blob/main/Plotting_a_hyperbola_%5BSulaiman50.ipynb\" target=\"_parent\"><img src=\"https://colab.research.google.com/assets/colab-badge.svg\" alt=\"Open In Colab\"/></a>"
      ]
    },
    {
      "cell_type": "markdown",
      "source": [
        "Plotting a hyperbola"
      ],
      "metadata": {
        "id": "vxmz4Td4lcKG"
      }
    },
    {
      "cell_type": "code",
      "source": [
        "# Custom module to generate Fibonacci sequence\n",
        "def myFib(n):\n",
        "    \"\"\"\n",
        "    Generate a list of Fibonacci numbers up to the nth term.\n",
        "\n",
        "    Parameters:\n",
        "        n (int): The range up to which the Fibonacci sequence will be generated.\n",
        "\n",
        "    Returns:\n",
        "        list: A list containing the Fibonacci sequence up to the nth term.\n",
        "    \"\"\"\n",
        "    if n <= 0:\n",
        "        return []  # Return an empty list for non-positive input\n",
        "\n",
        "    if n == 1:\n",
        "        return [0]  # Return the first Fibonacci number\n",
        "\n",
        "    # Initialize the sequence with the first two Fibonacci numbers\n",
        "    fib_sequence = [0, 1]\n",
        "\n",
        "    # Generate the rest of the sequence up to the nth term\n",
        "    for i in range(2, n):\n",
        "        next_fib = fib_sequence[-1] + fib_sequence[-2]\n",
        "        fib_sequence.append(next_fib)\n",
        "\n",
        "    return fib_sequence\n",
        "\n",
        "# Example usage\n",
        "if __name__ == \"__main__\":\n",
        "    range_limit = 10  # Specify the range limit for the Fibonacci sequence\n",
        "    fib_sequence = myFib(range_limit)\n",
        "    print(f\"Fibonacci sequence up to {range_limit} terms: {fib_sequence}\")\n"
      ],
      "metadata": {
        "colab": {
          "base_uri": "https://localhost:8080/"
        },
        "id": "d9ifLJzDmSQx",
        "outputId": "d96b262c-a829-4c97-83de-702f3290ad59"
      },
      "execution_count": 6,
      "outputs": [
        {
          "output_type": "stream",
          "name": "stdout",
          "text": [
            "Fibonacci sequence up to 10 terms: [0, 1, 1, 2, 3, 5, 8, 13, 21, 34]\n"
          ]
        }
      ]
    }
  ]
}