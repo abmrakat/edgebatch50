{
  "nbformat": 4,
  "nbformat_minor": 0,
  "metadata": {
    "colab": {
      "provenance": [],
      "authorship_tag": "ABX9TyOi81oJMlDo1KsPHLTvTQHJ",
      "include_colab_link": true
    },
    "kernelspec": {
      "name": "python3",
      "display_name": "Python 3"
    },
    "language_info": {
      "name": "python"
    }
  },
  "cells": [
    {
      "cell_type": "markdown",
      "metadata": {
        "id": "view-in-github",
        "colab_type": "text"
      },
      "source": [
        "<a href=\"https://colab.research.google.com/github/abmrakat/edgebatch50/blob/main/SulaimanEDGEbatch50.ipynb\" target=\"_parent\"><img src=\"https://colab.research.google.com/assets/colab-badge.svg\" alt=\"Open In Colab\"/></a>"
      ]
    },
    {
      "cell_type": "markdown",
      "source": [
        "Custom Module"
      ],
      "metadata": {
        "id": "xD14kxnkMJAR"
      }
    },
    {
      "cell_type": "code",
      "execution_count": 2,
      "metadata": {
        "colab": {
          "base_uri": "https://localhost:8080/"
        },
        "id": "BoBYEYktLlDq",
        "outputId": "eab0bb97-1528-49cf-8bce-d1d33c18fad2"
      },
      "outputs": [
        {
          "output_type": "stream",
          "name": "stdout",
          "text": [
            "[7, 8, 9, 10]\n"
          ]
        }
      ],
      "source": [
        "def getMissingVals(lst, endOfFirstList, startOf2ndList):\n",
        "    # Check for valid input, i.e., endOfFirstList should be less than startOf2ndList\n",
        "    if endOfFirstList >= startOf2ndList or endOfFirstList >= len(lst) or startOf2ndList > len(lst):\n",
        "        return \"Invalid indices\"\n",
        "\n",
        "    # Split the list into two parts based on given indices\n",
        "    first_part = lst[:endOfFirstList]\n",
        "    second_part = lst[startOf2ndList:]\n",
        "\n",
        "    # Convert first_part to a set for quick lookup\n",
        "    first_part_set = set(first_part)\n",
        "\n",
        "    # Find missing values from the second part\n",
        "    missing_vals = [value for value in second_part if value not in first_part_set]\n",
        "\n",
        "    # Return the result based on whether there are missing values\n",
        "    if missing_vals:\n",
        "        return missing_vals\n",
        "    else:\n",
        "        return \"No missing Val\"\n",
        "\n",
        "# Example usage:\n",
        "lst = [1, 2, 3, 4, 5, 6, 7, 8, 9, 10]\n",
        "endOfFirstList = 5\n",
        "startOf2ndList = 6\n",
        "\n",
        "# Testing the function\n",
        "print(getMissingVals(lst, endOfFirstList, startOf2ndList))\n"
      ]
    },
    {
      "cell_type": "markdown",
      "source": [
        "Fazr Salah Rakah Calculation"
      ],
      "metadata": {
        "id": "TTvUhWsVMcXG"
      }
    },
    {
      "cell_type": "code",
      "source": [
        "def Fazr(sunnah, fard, Nafl):\n",
        "    total_rakah = sunnah + fard + Nafl\n",
        "    return total_rakah\n",
        "\n",
        "sunnah = 2  # For example, 2 rakah Sunnah\n",
        "fard = 2    # 2 rakah Fard\n",
        "Nafl = 0     # No Nafl in this example\n",
        "\n",
        "total = Fazr(sunnah, fard, Nafl)\n",
        "print(f\"Total rakah: {total}\")"
      ],
      "metadata": {
        "colab": {
          "base_uri": "https://localhost:8080/"
        },
        "id": "s0DuXbT2MT4l",
        "outputId": "4637ea59-5c94-4aa5-b1c3-16ded3143ad0"
      },
      "execution_count": 7,
      "outputs": [
        {
          "output_type": "stream",
          "name": "stdout",
          "text": [
            "Total rakah: 4\n"
          ]
        }
      ]
    },
    {
      "cell_type": "markdown",
      "source": [
        "Zohr Salah Calculation"
      ],
      "metadata": {
        "id": "6gyzWLR5OI2d"
      }
    },
    {
      "cell_type": "code",
      "source": [
        "def Zohr(sunnah, fard, Nafl):\n",
        "  total_rakah = sunnah + fard + Nafl\n",
        "  return total_rakah\n",
        "  print(\"What is the total number of Rakah of Zohr Salah?\")\n",
        "print(\"It is: \", Zohr(4, 6, 2))"
      ],
      "metadata": {
        "colab": {
          "base_uri": "https://localhost:8080/"
        },
        "id": "HSmHYH3nOMzc",
        "outputId": "41e27cd3-b26f-4aad-827f-a7de9797e4ac"
      },
      "execution_count": 8,
      "outputs": [
        {
          "output_type": "stream",
          "name": "stdout",
          "text": [
            "It is:  12\n"
          ]
        }
      ]
    },
    {
      "cell_type": "markdown",
      "source": [
        "Fibonacci Series"
      ],
      "metadata": {
        "id": "gLNr-LhXQK8a"
      }
    },
    {
      "cell_type": "code",
      "source": [
        "a, b = 0, 1\n",
        "while a < 100:\n",
        "  print(a, end=',')\n",
        "  a, b = b, a +b"
      ],
      "metadata": {
        "colab": {
          "base_uri": "https://localhost:8080/"
        },
        "id": "oOWld_djQL-a",
        "outputId": "c88ab9cc-1928-4e80-80f5-234a9f0ffe0f"
      },
      "execution_count": 10,
      "outputs": [
        {
          "output_type": "stream",
          "name": "stdout",
          "text": [
            "0,1,1,2,3,5,8,13,21,34,55,89,"
          ]
        }
      ]
    }
  ]
}